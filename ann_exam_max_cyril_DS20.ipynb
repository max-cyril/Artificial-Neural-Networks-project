{
 "cells": [
  {
   "cell_type": "code",
   "execution_count": 1,
   "metadata": {},
   "outputs": [],
   "source": [
    "#%matplotlib notebook\n",
    "%matplotlib inline\n",
    "import numpy as np\n",
    "import pandas as pd\n",
    "import os\n",
    "import cv2\n",
    "from shutil import copyfile,move\n",
    "import os\n",
    "from sklearn.manifold import TSNE\n",
    "\n",
    "import matplotlib as mpl\n",
    "import matplotlib.cm as cm\n",
    "import matplotlib.pyplot as plt\n",
    "\n",
    "from   sklearn.decomposition import PCA\n",
    "from   sklearn.manifold import Isomap, LocallyLinearEmbedding, MDS, SpectralEmbedding\n",
    "from   sklearn.preprocessing import StandardScaler"
   ]
  },
  {
   "cell_type": "code",
   "execution_count": 2,
   "metadata": {},
   "outputs": [],
   "source": [
    "os.chdir('E:/poubelle/data/Ann/train_data.csv/')"
   ]
  },
  {
   "cell_type": "code",
   "execution_count": 25,
   "metadata": {},
   "outputs": [
    {
     "name": "stdout",
     "output_type": "stream",
     "text": [
      "Wall time: 11.9 s\n"
     ]
    }
   ],
   "source": [
    "%%time\n",
    "df_tr=pd.read_csv('E:/poubelle/data/Ann/train_data.csv/train_data.csv',sep=',',header=None)\n",
    "df_ts=pd.read_csv('E:/poubelle/data/Ann/test_data.csv/test_data.csv',sep=',',header=None)"
   ]
  },
  {
   "cell_type": "code",
   "execution_count": 6,
   "metadata": {
    "scrolled": true
   },
   "outputs": [
    {
     "name": "stdout",
     "output_type": "stream",
     "text": [
      "(12000, 785)\n"
     ]
    },
    {
     "data": {
      "text/html": [
       "<div>\n",
       "<style scoped>\n",
       "    .dataframe tbody tr th:only-of-type {\n",
       "        vertical-align: middle;\n",
       "    }\n",
       "\n",
       "    .dataframe tbody tr th {\n",
       "        vertical-align: top;\n",
       "    }\n",
       "\n",
       "    .dataframe thead th {\n",
       "        text-align: right;\n",
       "    }\n",
       "</style>\n",
       "<table border=\"1\" class=\"dataframe\">\n",
       "  <thead>\n",
       "    <tr style=\"text-align: right;\">\n",
       "      <th></th>\n",
       "      <th>0</th>\n",
       "      <th>1</th>\n",
       "      <th>2</th>\n",
       "      <th>3</th>\n",
       "      <th>4</th>\n",
       "      <th>5</th>\n",
       "      <th>6</th>\n",
       "      <th>7</th>\n",
       "      <th>8</th>\n",
       "      <th>9</th>\n",
       "      <th>...</th>\n",
       "      <th>775</th>\n",
       "      <th>776</th>\n",
       "      <th>777</th>\n",
       "      <th>778</th>\n",
       "      <th>779</th>\n",
       "      <th>780</th>\n",
       "      <th>781</th>\n",
       "      <th>782</th>\n",
       "      <th>783</th>\n",
       "      <th>784</th>\n",
       "    </tr>\n",
       "  </thead>\n",
       "  <tbody>\n",
       "    <tr>\n",
       "      <th>0</th>\n",
       "      <td>0.713940</td>\n",
       "      <td>0.950166</td>\n",
       "      <td>0.082491</td>\n",
       "      <td>0.473774</td>\n",
       "      <td>0.374250</td>\n",
       "      <td>0.605040</td>\n",
       "      <td>0.412975</td>\n",
       "      <td>0.044910</td>\n",
       "      <td>0.632922</td>\n",
       "      <td>0.833006</td>\n",
       "      <td>...</td>\n",
       "      <td>0.370060</td>\n",
       "      <td>0.231853</td>\n",
       "      <td>0.551300</td>\n",
       "      <td>0.269233</td>\n",
       "      <td>0.647563</td>\n",
       "      <td>0.280602</td>\n",
       "      <td>0.497715</td>\n",
       "      <td>0.556270</td>\n",
       "      <td>0.698295</td>\n",
       "      <td>5.0</td>\n",
       "    </tr>\n",
       "    <tr>\n",
       "      <th>1</th>\n",
       "      <td>0.207442</td>\n",
       "      <td>0.159942</td>\n",
       "      <td>0.052641</td>\n",
       "      <td>0.051342</td>\n",
       "      <td>0.009720</td>\n",
       "      <td>0.682703</td>\n",
       "      <td>0.774166</td>\n",
       "      <td>0.558285</td>\n",
       "      <td>0.005905</td>\n",
       "      <td>0.201606</td>\n",
       "      <td>...</td>\n",
       "      <td>0.315708</td>\n",
       "      <td>0.012937</td>\n",
       "      <td>0.300337</td>\n",
       "      <td>0.284532</td>\n",
       "      <td>0.135431</td>\n",
       "      <td>0.678037</td>\n",
       "      <td>0.494685</td>\n",
       "      <td>0.203191</td>\n",
       "      <td>0.391003</td>\n",
       "      <td>7.0</td>\n",
       "    </tr>\n",
       "    <tr>\n",
       "      <th>2</th>\n",
       "      <td>0.325839</td>\n",
       "      <td>0.056225</td>\n",
       "      <td>0.160836</td>\n",
       "      <td>0.759836</td>\n",
       "      <td>0.403398</td>\n",
       "      <td>0.187141</td>\n",
       "      <td>0.340320</td>\n",
       "      <td>0.775668</td>\n",
       "      <td>0.459065</td>\n",
       "      <td>0.921677</td>\n",
       "      <td>...</td>\n",
       "      <td>0.593142</td>\n",
       "      <td>0.505503</td>\n",
       "      <td>0.378750</td>\n",
       "      <td>0.087939</td>\n",
       "      <td>0.530516</td>\n",
       "      <td>0.888135</td>\n",
       "      <td>0.407788</td>\n",
       "      <td>0.627825</td>\n",
       "      <td>0.673938</td>\n",
       "      <td>7.0</td>\n",
       "    </tr>\n",
       "    <tr>\n",
       "      <th>3</th>\n",
       "      <td>0.456670</td>\n",
       "      <td>0.540038</td>\n",
       "      <td>0.424184</td>\n",
       "      <td>0.660162</td>\n",
       "      <td>0.091114</td>\n",
       "      <td>0.249477</td>\n",
       "      <td>0.309704</td>\n",
       "      <td>0.465830</td>\n",
       "      <td>0.828901</td>\n",
       "      <td>0.344942</td>\n",
       "      <td>...</td>\n",
       "      <td>0.207742</td>\n",
       "      <td>0.155203</td>\n",
       "      <td>0.178659</td>\n",
       "      <td>0.261624</td>\n",
       "      <td>0.682500</td>\n",
       "      <td>0.771541</td>\n",
       "      <td>0.893934</td>\n",
       "      <td>0.707141</td>\n",
       "      <td>0.606010</td>\n",
       "      <td>1.0</td>\n",
       "    </tr>\n",
       "    <tr>\n",
       "      <th>4</th>\n",
       "      <td>0.364102</td>\n",
       "      <td>0.175911</td>\n",
       "      <td>0.483085</td>\n",
       "      <td>0.126983</td>\n",
       "      <td>0.284549</td>\n",
       "      <td>0.419236</td>\n",
       "      <td>0.075535</td>\n",
       "      <td>0.466388</td>\n",
       "      <td>0.358588</td>\n",
       "      <td>0.124850</td>\n",
       "      <td>...</td>\n",
       "      <td>0.345253</td>\n",
       "      <td>0.829508</td>\n",
       "      <td>0.604404</td>\n",
       "      <td>0.017116</td>\n",
       "      <td>0.671998</td>\n",
       "      <td>0.683932</td>\n",
       "      <td>0.895201</td>\n",
       "      <td>0.796101</td>\n",
       "      <td>0.432795</td>\n",
       "      <td>8.0</td>\n",
       "    </tr>\n",
       "  </tbody>\n",
       "</table>\n",
       "<p>5 rows × 785 columns</p>\n",
       "</div>"
      ],
      "text/plain": [
       "        0         1         2         3         4         5         6    \\\n",
       "0  0.713940  0.950166  0.082491  0.473774  0.374250  0.605040  0.412975   \n",
       "1  0.207442  0.159942  0.052641  0.051342  0.009720  0.682703  0.774166   \n",
       "2  0.325839  0.056225  0.160836  0.759836  0.403398  0.187141  0.340320   \n",
       "3  0.456670  0.540038  0.424184  0.660162  0.091114  0.249477  0.309704   \n",
       "4  0.364102  0.175911  0.483085  0.126983  0.284549  0.419236  0.075535   \n",
       "\n",
       "        7         8         9    ...       775       776       777       778  \\\n",
       "0  0.044910  0.632922  0.833006  ...  0.370060  0.231853  0.551300  0.269233   \n",
       "1  0.558285  0.005905  0.201606  ...  0.315708  0.012937  0.300337  0.284532   \n",
       "2  0.775668  0.459065  0.921677  ...  0.593142  0.505503  0.378750  0.087939   \n",
       "3  0.465830  0.828901  0.344942  ...  0.207742  0.155203  0.178659  0.261624   \n",
       "4  0.466388  0.358588  0.124850  ...  0.345253  0.829508  0.604404  0.017116   \n",
       "\n",
       "        779       780       781       782       783  784  \n",
       "0  0.647563  0.280602  0.497715  0.556270  0.698295  5.0  \n",
       "1  0.135431  0.678037  0.494685  0.203191  0.391003  7.0  \n",
       "2  0.530516  0.888135  0.407788  0.627825  0.673938  7.0  \n",
       "3  0.682500  0.771541  0.893934  0.707141  0.606010  1.0  \n",
       "4  0.671998  0.683932  0.895201  0.796101  0.432795  8.0  \n",
       "\n",
       "[5 rows x 785 columns]"
      ]
     },
     "execution_count": 6,
     "metadata": {},
     "output_type": "execute_result"
    }
   ],
   "source": [
    "print(df_tr.shape)\n",
    "df_tr.head()"
   ]
  },
  {
   "cell_type": "code",
   "execution_count": 26,
   "metadata": {},
   "outputs": [
    {
     "name": "stdout",
     "output_type": "stream",
     "text": [
      "(50000, 784)\n"
     ]
    },
    {
     "data": {
      "text/html": [
       "<div>\n",
       "<style scoped>\n",
       "    .dataframe tbody tr th:only-of-type {\n",
       "        vertical-align: middle;\n",
       "    }\n",
       "\n",
       "    .dataframe tbody tr th {\n",
       "        vertical-align: top;\n",
       "    }\n",
       "\n",
       "    .dataframe thead th {\n",
       "        text-align: right;\n",
       "    }\n",
       "</style>\n",
       "<table border=\"1\" class=\"dataframe\">\n",
       "  <thead>\n",
       "    <tr style=\"text-align: right;\">\n",
       "      <th></th>\n",
       "      <th>0</th>\n",
       "      <th>1</th>\n",
       "      <th>2</th>\n",
       "      <th>3</th>\n",
       "      <th>4</th>\n",
       "      <th>5</th>\n",
       "      <th>6</th>\n",
       "      <th>7</th>\n",
       "      <th>8</th>\n",
       "      <th>9</th>\n",
       "      <th>...</th>\n",
       "      <th>774</th>\n",
       "      <th>775</th>\n",
       "      <th>776</th>\n",
       "      <th>777</th>\n",
       "      <th>778</th>\n",
       "      <th>779</th>\n",
       "      <th>780</th>\n",
       "      <th>781</th>\n",
       "      <th>782</th>\n",
       "      <th>783</th>\n",
       "    </tr>\n",
       "  </thead>\n",
       "  <tbody>\n",
       "    <tr>\n",
       "      <th>0</th>\n",
       "      <td>0.923635</td>\n",
       "      <td>0.845687</td>\n",
       "      <td>0.392889</td>\n",
       "      <td>0.615869</td>\n",
       "      <td>0.874534</td>\n",
       "      <td>0.740285</td>\n",
       "      <td>0.866167</td>\n",
       "      <td>0.874884</td>\n",
       "      <td>0.798678</td>\n",
       "      <td>0.921411</td>\n",
       "      <td>...</td>\n",
       "      <td>0.319343</td>\n",
       "      <td>0.117923</td>\n",
       "      <td>0.534830</td>\n",
       "      <td>0.471488</td>\n",
       "      <td>0.533066</td>\n",
       "      <td>0.043630</td>\n",
       "      <td>0.180847</td>\n",
       "      <td>0.914436</td>\n",
       "      <td>0.208952</td>\n",
       "      <td>0.818082</td>\n",
       "    </tr>\n",
       "    <tr>\n",
       "      <th>1</th>\n",
       "      <td>0.007767</td>\n",
       "      <td>0.670740</td>\n",
       "      <td>0.951021</td>\n",
       "      <td>0.824375</td>\n",
       "      <td>0.094717</td>\n",
       "      <td>0.497067</td>\n",
       "      <td>0.114710</td>\n",
       "      <td>0.437907</td>\n",
       "      <td>0.960489</td>\n",
       "      <td>0.240704</td>\n",
       "      <td>...</td>\n",
       "      <td>0.517363</td>\n",
       "      <td>0.613867</td>\n",
       "      <td>0.707880</td>\n",
       "      <td>0.117110</td>\n",
       "      <td>0.418698</td>\n",
       "      <td>0.645694</td>\n",
       "      <td>0.927810</td>\n",
       "      <td>0.680603</td>\n",
       "      <td>0.676337</td>\n",
       "      <td>0.950921</td>\n",
       "    </tr>\n",
       "    <tr>\n",
       "      <th>2</th>\n",
       "      <td>0.358045</td>\n",
       "      <td>0.464620</td>\n",
       "      <td>0.437333</td>\n",
       "      <td>0.050389</td>\n",
       "      <td>0.077008</td>\n",
       "      <td>0.442392</td>\n",
       "      <td>0.918650</td>\n",
       "      <td>0.050119</td>\n",
       "      <td>0.192834</td>\n",
       "      <td>0.104782</td>\n",
       "      <td>...</td>\n",
       "      <td>0.724851</td>\n",
       "      <td>0.801276</td>\n",
       "      <td>0.479539</td>\n",
       "      <td>0.329358</td>\n",
       "      <td>0.792401</td>\n",
       "      <td>0.280922</td>\n",
       "      <td>0.271480</td>\n",
       "      <td>0.439076</td>\n",
       "      <td>0.304218</td>\n",
       "      <td>0.776752</td>\n",
       "    </tr>\n",
       "    <tr>\n",
       "      <th>3</th>\n",
       "      <td>0.529594</td>\n",
       "      <td>0.952398</td>\n",
       "      <td>0.106095</td>\n",
       "      <td>0.145126</td>\n",
       "      <td>0.848198</td>\n",
       "      <td>0.623113</td>\n",
       "      <td>0.987542</td>\n",
       "      <td>0.208150</td>\n",
       "      <td>0.786005</td>\n",
       "      <td>0.177162</td>\n",
       "      <td>...</td>\n",
       "      <td>0.070347</td>\n",
       "      <td>0.207519</td>\n",
       "      <td>0.516150</td>\n",
       "      <td>0.301316</td>\n",
       "      <td>0.444116</td>\n",
       "      <td>0.568434</td>\n",
       "      <td>0.720637</td>\n",
       "      <td>0.000732</td>\n",
       "      <td>0.298122</td>\n",
       "      <td>0.661337</td>\n",
       "    </tr>\n",
       "    <tr>\n",
       "      <th>4</th>\n",
       "      <td>0.615061</td>\n",
       "      <td>0.910934</td>\n",
       "      <td>0.610735</td>\n",
       "      <td>0.926151</td>\n",
       "      <td>0.166474</td>\n",
       "      <td>0.094271</td>\n",
       "      <td>0.172607</td>\n",
       "      <td>0.641545</td>\n",
       "      <td>0.529498</td>\n",
       "      <td>0.750550</td>\n",
       "      <td>...</td>\n",
       "      <td>0.445006</td>\n",
       "      <td>0.977408</td>\n",
       "      <td>0.975606</td>\n",
       "      <td>0.552509</td>\n",
       "      <td>0.170555</td>\n",
       "      <td>0.971848</td>\n",
       "      <td>0.432990</td>\n",
       "      <td>0.183389</td>\n",
       "      <td>0.035798</td>\n",
       "      <td>0.067085</td>\n",
       "    </tr>\n",
       "  </tbody>\n",
       "</table>\n",
       "<p>5 rows × 784 columns</p>\n",
       "</div>"
      ],
      "text/plain": [
       "        0         1         2         3         4         5         6    \\\n",
       "0  0.923635  0.845687  0.392889  0.615869  0.874534  0.740285  0.866167   \n",
       "1  0.007767  0.670740  0.951021  0.824375  0.094717  0.497067  0.114710   \n",
       "2  0.358045  0.464620  0.437333  0.050389  0.077008  0.442392  0.918650   \n",
       "3  0.529594  0.952398  0.106095  0.145126  0.848198  0.623113  0.987542   \n",
       "4  0.615061  0.910934  0.610735  0.926151  0.166474  0.094271  0.172607   \n",
       "\n",
       "        7         8         9    ...       774       775       776       777  \\\n",
       "0  0.874884  0.798678  0.921411  ...  0.319343  0.117923  0.534830  0.471488   \n",
       "1  0.437907  0.960489  0.240704  ...  0.517363  0.613867  0.707880  0.117110   \n",
       "2  0.050119  0.192834  0.104782  ...  0.724851  0.801276  0.479539  0.329358   \n",
       "3  0.208150  0.786005  0.177162  ...  0.070347  0.207519  0.516150  0.301316   \n",
       "4  0.641545  0.529498  0.750550  ...  0.445006  0.977408  0.975606  0.552509   \n",
       "\n",
       "        778       779       780       781       782       783  \n",
       "0  0.533066  0.043630  0.180847  0.914436  0.208952  0.818082  \n",
       "1  0.418698  0.645694  0.927810  0.680603  0.676337  0.950921  \n",
       "2  0.792401  0.280922  0.271480  0.439076  0.304218  0.776752  \n",
       "3  0.444116  0.568434  0.720637  0.000732  0.298122  0.661337  \n",
       "4  0.170555  0.971848  0.432990  0.183389  0.035798  0.067085  \n",
       "\n",
       "[5 rows x 784 columns]"
      ]
     },
     "execution_count": 26,
     "metadata": {},
     "output_type": "execute_result"
    }
   ],
   "source": [
    "print(df_ts.shape)\n",
    "df_ts.head()"
   ]
  },
  {
   "cell_type": "code",
   "execution_count": 6,
   "metadata": {},
   "outputs": [
    {
     "data": {
      "text/plain": [
       "<AxesSubplot:xlabel='784'>"
      ]
     },
     "execution_count": 6,
     "metadata": {},
     "output_type": "execute_result"
    },
    {
     "data": {
      "image/png": "[encoded data removed]",
      "text/plain": [
       "<Figure size 432x288 with 1 Axes>"
      ]
     },
     "metadata": {
      "needs_background": "light"
     },
     "output_type": "display_data"
    }
   ],
   "source": [
    "x=df_tr.iloc[:,0:784]\n",
    "y=df_tr.iloc[:,784:]\n",
    "y.value_counts().plot.bar()\n",
    "\n"
   ]
  },
  {
   "cell_type": "markdown",
   "metadata": {},
   "source": [
    "#!pip install pivottablejs\n",
    "from pivottablejs import pivot_ui\n",
    "pivot_ui(y)"
   ]
  },
  {
   "cell_type": "code",
   "execution_count": null,
   "metadata": {},
   "outputs": [],
   "source": []
  },
  {
   "cell_type": "code",
   "execution_count": null,
   "metadata": {},
   "outputs": [],
   "source": []
  },
  {
   "cell_type": "code",
   "execution_count": null,
   "metadata": {},
   "outputs": [],
   "source": []
  },
  {
   "cell_type": "markdown",
   "metadata": {},
   "source": [
    "# fully connected model"
   ]
  },
  {
   "cell_type": "code",
   "execution_count": 115,
   "metadata": {},
   "outputs": [],
   "source": [
    "from tensorflow.keras import Sequential\n",
    "from tensorflow.keras.layers import Dense ,Flatten ,Dropout ,Conv2D,MaxPooling2D\n",
    "from tensorflow.keras.losses import BinaryCrossentropy,sparse_categorical_crossentropy\n",
    "from sklearn.model_selection import train_test_split\n",
    "xtr,xtst,ytr,ytst= train_test_split(x,y,test_size=.2,random_state=10)"
   ]
  },
  {
   "cell_type": "code",
   "execution_count": 143,
   "metadata": {},
   "outputs": [],
   "source": [
    "scaler=StandardScaler()\n",
    "df_xtr=scaler.fit_transform(xtr)\n",
    "df_xtst=scaler.transform(xtst)\n",
    "test_data=scaler.transform(df_ts)"
   ]
  },
  {
   "cell_type": "code",
   "execution_count": 119,
   "metadata": {},
   "outputs": [],
   "source": [
    "model= Sequential()\n",
    "model.add(Dense(128,activation='relu'))\n",
    "model.add(Dropout(0.2))\n",
    "model.add(Dense(10,activation='softmax'))\n",
    "#model.summary()\n",
    "\n",
    "\n",
    "model.compile(optimizer='adam',loss='sparse_categorical_crossentropy',metrics=['accuracy'])"
   ]
  },
  {
   "cell_type": "code",
   "execution_count": 120,
   "metadata": {},
   "outputs": [],
   "source": [
    "hist2=model.fit(df_xtr,ytr,validation_data=(df_xtst,ytst),batch_size=40,epochs=100,verbose=0)"
   ]
  },
  {
   "cell_type": "code",
   "execution_count": 121,
   "metadata": {},
   "outputs": [
    {
     "name": "stdout",
     "output_type": "stream",
     "text": [
      "75/75 [==============================] - 0s 1ms/step - loss: 2.1605 - accuracy: 0.8021\n",
      "2.1605398654937744 0.8020833134651184\n"
     ]
    }
   ],
   "source": [
    "fc_loss,fc_accuracy=model.evaluate(df_xtst,ytst)\n",
    "print(fc_loss,fc_accuracy)"
   ]
  },
  {
   "cell_type": "code",
   "execution_count": 122,
   "metadata": {},
   "outputs": [
    {
     "data": {
      "text/plain": [
       "[<matplotlib.lines.Line2D at 0x1e110ef4f70>]"
      ]
     },
     "execution_count": 122,
     "metadata": {},
     "output_type": "execute_result"
    },
    {
     "data": {
      "image/png": "[encoded data removed]",
      "text/plain": [
       "<Figure size 432x288 with 1 Axes>"
      ]
     },
     "metadata": {
      "needs_background": "light"
     },
     "output_type": "display_data"
    }
   ],
   "source": [
    "plt.plot(hist2.history['val_accuracy'])\n",
    "plt.plot(hist2.history['accuracy'])\n",
    "plt.plot(hist2.history['loss'])\n",
    "plt.plot(hist2.history['val_loss'])"
   ]
  },
  {
   "cell_type": "code",
   "execution_count": null,
   "metadata": {},
   "outputs": [],
   "source": []
  },
  {
   "cell_type": "code",
   "execution_count": null,
   "metadata": {},
   "outputs": [],
   "source": []
  },
  {
   "cell_type": "code",
   "execution_count": null,
   "metadata": {},
   "outputs": [],
   "source": []
  },
  {
   "cell_type": "code",
   "execution_count": null,
   "metadata": {},
   "outputs": [],
   "source": []
  },
  {
   "cell_type": "markdown",
   "metadata": {},
   "source": [
    "# cnn"
   ]
  },
  {
   "cell_type": "code",
   "execution_count": null,
   "metadata": {},
   "outputs": [],
   "source": []
  },
  {
   "cell_type": "code",
   "execution_count": 144,
   "metadata": {},
   "outputs": [
    {
     "data": {
      "text/plain": [
       "((9600, 28, 28, 1), (2400, 28, 28, 1), (50000, 28, 28, 1))"
      ]
     },
     "execution_count": 144,
     "metadata": {},
     "output_type": "execute_result"
    }
   ],
   "source": [
    "df_xtr=df_xtr.reshape(df_xtr.shape[0], 28,28, 1)\n",
    "df_xtst=df_xtst.reshape(df_xtst.shape[0], 28,28, 1)\n",
    "test_data=test_data.reshape(test_data.shape[0], 28,28, 1)\n",
    "df_xtr.shape ,df_xtst.shape,test_data.shape\n"
   ]
  },
  {
   "cell_type": "code",
   "execution_count": 65,
   "metadata": {},
   "outputs": [
    {
     "name": "stdout",
     "output_type": "stream",
     "text": [
      "Model: \"sequential_8\"\n",
      "_________________________________________________________________\n",
      "Layer (type)                 Output Shape              Param #   \n",
      "=================================================================\n",
      "conv2d_4 (Conv2D)            (None, 26, 26, 32)        320       \n",
      "_________________________________________________________________\n",
      "conv2d_5 (Conv2D)            (None, 24, 24, 64)        18496     \n",
      "_________________________________________________________________\n",
      "max_pooling2d_1 (MaxPooling2 (None, 12, 12, 64)        0         \n",
      "_________________________________________________________________\n",
      "dropout_6 (Dropout)          (None, 12, 12, 64)        0         \n",
      "_________________________________________________________________\n",
      "flatten_3 (Flatten)          (None, 9216)              0         \n",
      "_________________________________________________________________\n",
      "dense_12 (Dense)             (None, 128)               1179776   \n",
      "_________________________________________________________________\n",
      "dropout_7 (Dropout)          (None, 128)               0         \n",
      "_________________________________________________________________\n",
      "dense_13 (Dense)             (None, 10)                1290      \n",
      "=================================================================\n",
      "Total params: 1,199,882\n",
      "Trainable params: 1,199,882\n",
      "Non-trainable params: 0\n",
      "_________________________________________________________________\n"
     ]
    }
   ],
   "source": [
    "mod = Sequential()\n",
    "\n",
    "# add first convolutional layer\n",
    "mod.add(Conv2D(32, kernel_size=(3, 3), activation='relu', input_shape=(28,28, 1)))\n",
    "\n",
    "# add second convolutional layer\n",
    "mod.add(Conv2D(64, (3, 3), activation='relu'))\n",
    "\n",
    "# add one max pooling layer \n",
    "mod.add(MaxPooling2D(pool_size=(2, 2)))\n",
    "\n",
    "# add one dropout layer\n",
    "mod.add(Dropout(0.125))\n",
    "\n",
    "# add flatten layer\n",
    "mod.add(Flatten())\n",
    "\n",
    "# add dense layer\n",
    "mod.add(Dense(128, activation='relu'))\n",
    "\n",
    "# add another dropout layer\n",
    "mod.add(Dropout(0.25))\n",
    "\n",
    "# add dense layer\n",
    "mod.add(Dense(10, activation='softmax'))\n",
    "\n",
    "# complile the model and view its architecur\n",
    "mod.compile(optimizer='adam',loss='sparse_categorical_crossentropy',metrics=['accuracy'])\n",
    "\n",
    "mod.summary()"
   ]
  },
  {
   "cell_type": "code",
   "execution_count": 74,
   "metadata": {},
   "outputs": [
    {
     "name": "stdout",
     "output_type": "stream",
     "text": [
      "Epoch 1/20\n",
      "300/300 [==============================] - 14s 46ms/step - loss: 0.0074 - accuracy: 0.9981 - val_loss: 0.5314 - val_accuracy: 0.9508\n",
      "Epoch 2/20\n",
      "300/300 [==============================] - 14s 46ms/step - loss: 0.0051 - accuracy: 0.9986 - val_loss: 0.4965 - val_accuracy: 0.9554\n",
      "Epoch 3/20\n",
      "300/300 [==============================] - 13s 45ms/step - loss: 0.0043 - accuracy: 0.9985 - val_loss: 0.5375 - val_accuracy: 0.9538\n",
      "Epoch 4/20\n",
      "300/300 [==============================] - 14s 45ms/step - loss: 0.0045 - accuracy: 0.9989 - val_loss: 0.5719 - val_accuracy: 0.9525\n",
      "Epoch 5/20\n",
      "300/300 [==============================] - 13s 45ms/step - loss: 0.0053 - accuracy: 0.9985 - val_loss: 0.5686 - val_accuracy: 0.9554\n",
      "Epoch 6/20\n",
      "300/300 [==============================] - 13s 45ms/step - loss: 0.0049 - accuracy: 0.9992 - val_loss: 0.5035 - val_accuracy: 0.9529\n",
      "Epoch 7/20\n",
      "300/300 [==============================] - 14s 48ms/step - loss: 0.0056 - accuracy: 0.9985 - val_loss: 0.5085 - val_accuracy: 0.9525\n",
      "Epoch 8/20\n",
      "300/300 [==============================] - 18s 61ms/step - loss: 0.0041 - accuracy: 0.9989 - val_loss: 0.5125 - val_accuracy: 0.9542\n",
      "Epoch 9/20\n",
      "300/300 [==============================] - 19s 63ms/step - loss: 0.0043 - accuracy: 0.9987 - val_loss: 0.5517 - val_accuracy: 0.9546\n",
      "Epoch 10/20\n",
      "300/300 [==============================] - 18s 61ms/step - loss: 0.0078 - accuracy: 0.9983 - val_loss: 0.5445 - val_accuracy: 0.9517\n",
      "Epoch 11/20\n",
      "300/300 [==============================] - 18s 62ms/step - loss: 0.0054 - accuracy: 0.9985 - val_loss: 0.5964 - val_accuracy: 0.9571\n",
      "Epoch 12/20\n",
      "300/300 [==============================] - 19s 63ms/step - loss: 0.0061 - accuracy: 0.9984 - val_loss: 0.6371 - val_accuracy: 0.9550\n",
      "Epoch 13/20\n",
      "300/300 [==============================] - 18s 59ms/step - loss: 0.0037 - accuracy: 0.9991 - val_loss: 0.6724 - val_accuracy: 0.9521\n",
      "Epoch 14/20\n",
      "300/300 [==============================] - 13s 44ms/step - loss: 0.0053 - accuracy: 0.9987 - val_loss: 0.5773 - val_accuracy: 0.9538\n",
      "Epoch 15/20\n",
      "300/300 [==============================] - 13s 45ms/step - loss: 0.0095 - accuracy: 0.9975 - val_loss: 0.5474 - val_accuracy: 0.9588\n",
      "Epoch 16/20\n",
      "300/300 [==============================] - 14s 45ms/step - loss: 0.0114 - accuracy: 0.9975 - val_loss: 0.5656 - val_accuracy: 0.9588\n",
      "Epoch 17/20\n",
      "300/300 [==============================] - 14s 45ms/step - loss: 0.0068 - accuracy: 0.9982 - val_loss: 0.5354 - val_accuracy: 0.9575\n",
      "Epoch 18/20\n",
      "300/300 [==============================] - 20s 65ms/step - loss: 0.0039 - accuracy: 0.9984 - val_loss: 0.6102 - val_accuracy: 0.9475\n",
      "Epoch 19/20\n",
      "300/300 [==============================] - 19s 65ms/step - loss: 0.0049 - accuracy: 0.9987 - val_loss: 0.5791 - val_accuracy: 0.9513\n",
      "Epoch 20/20\n",
      "300/300 [==============================] - 20s 65ms/step - loss: 0.0061 - accuracy: 0.9985 - val_loss: 0.6154 - val_accuracy: 0.9546\n"
     ]
    }
   ],
   "source": [
    "hist=mod.fit(df_xtr,ytr,validation_data=(df_xtst,ytst),epochs=20,verbose=1)"
   ]
  },
  {
   "cell_type": "code",
   "execution_count": 111,
   "metadata": {},
   "outputs": [
    {
     "name": "stdout",
     "output_type": "stream",
     "text": [
      "75/75 [==============================] - 1s 8ms/step - loss: 0.6405 - accuracy: 0.9521\n",
      "0.6405152678489685 0.9520833492279053\n"
     ]
    }
   ],
   "source": [
    "cnn_loss,cnn_accuracy=mod.evaluate(df_xtst,ytst)\n",
    "print(loss,accuracy)"
   ]
  },
  {
   "cell_type": "code",
   "execution_count": 81,
   "metadata": {},
   "outputs": [
    {
     "data": {
      "text/plain": [
       "[<matplotlib.lines.Line2D at 0x1e1205cff40>]"
      ]
     },
     "execution_count": 81,
     "metadata": {},
     "output_type": "execute_result"
    },
    {
     "data": {
      "image/png": "[encoded data removed]",
      "text/plain": [
       "<Figure size 432x288 with 1 Axes>"
      ]
     },
     "metadata": {
      "needs_background": "light"
     },
     "output_type": "display_data"
    }
   ],
   "source": [
    "plt.plot(hist.history['accuracy'])\n",
    "plt.plot(hist.history['val_accuracy'])\n",
    "plt.plot(hist.history['loss'])\n",
    "plt.plot(hist.history['val_loss'])"
   ]
  },
  {
   "cell_type": "code",
   "execution_count": null,
   "metadata": {},
   "outputs": [],
   "source": []
  },
  {
   "cell_type": "code",
   "execution_count": 78,
   "metadata": {},
   "outputs": [],
   "source": [
    "from tensorflow.keras.callbacks import EarlyStopping,ModelCheckpoint"
   ]
  },
  {
   "cell_type": "code",
   "execution_count": 79,
   "metadata": {},
   "outputs": [
    {
     "name": "stdout",
     "output_type": "stream",
     "text": [
      "Epoch 1/20\n",
      "300/300 [==============================] - 12s 41ms/step - loss: 0.0064 - accuracy: 0.9983 - val_loss: 0.6147 - val_accuracy: 0.9533\n",
      "Epoch 2/20\n",
      "300/300 [==============================] - 17s 55ms/step - loss: 0.0025 - accuracy: 0.9989 - val_loss: 0.6472 - val_accuracy: 0.9517\n",
      "Epoch 3/20\n",
      "300/300 [==============================] - 13s 44ms/step - loss: 0.0031 - accuracy: 0.9990 - val_loss: 0.6946 - val_accuracy: 0.9533\n",
      "Epoch 4/20\n",
      "300/300 [==============================] - 13s 44ms/step - loss: 0.0053 - accuracy: 0.9989 - val_loss: 0.5756 - val_accuracy: 0.9546\n",
      "Epoch 5/20\n",
      "300/300 [==============================] - 14s 45ms/step - loss: 0.0034 - accuracy: 0.9991 - val_loss: 0.7064 - val_accuracy: 0.9500\n",
      "Epoch 6/20\n",
      "300/300 [==============================] - 13s 44ms/step - loss: 0.0027 - accuracy: 0.9995 - val_loss: 0.6984 - val_accuracy: 0.9563\n",
      "Epoch 7/20\n",
      "300/300 [==============================] - 13s 45ms/step - loss: 0.0064 - accuracy: 0.9989 - val_loss: 0.6557 - val_accuracy: 0.9550\n",
      "Epoch 8/20\n",
      "300/300 [==============================] - 14s 45ms/step - loss: 0.0058 - accuracy: 0.9990 - val_loss: 0.6654 - val_accuracy: 0.9513\n",
      "Epoch 9/20\n",
      "300/300 [==============================] - 14s 46ms/step - loss: 0.0079 - accuracy: 0.9982 - val_loss: 0.6405 - val_accuracy: 0.9521\n"
     ]
    }
   ],
   "source": [
    "earl_stp=EarlyStopping(monitor='val_loss',patience=5)\n",
    "cb=[earl_stp,ModelCheckpoint(filepath='maxcyril_ANN_exam_model.h5',monitor='val_loss',save_best_only=True)]\n",
    "hist=mod.fit(df_xtr,ytr,validation_data=(df_xtst,ytst),epochs=20,verbose=1,callbacks=[cb])"
   ]
  },
  {
   "cell_type": "code",
   "execution_count": 84,
   "metadata": {},
   "outputs": [],
   "source": [
    "from tensorflow.math import confusion_matrix"
   ]
  },
  {
   "cell_type": "code",
   "execution_count": 104,
   "metadata": {},
   "outputs": [
    {
     "data": {
      "text/plain": [
       "<AxesSubplot:>"
      ]
     },
     "execution_count": 104,
     "metadata": {},
     "output_type": "execute_result"
    },
    {
     "data": {
      "image/png": "[encoded data removed]",
      "text/plain": [
       "<Figure size 432x288 with 2 Axes>"
      ]
     },
     "metadata": {
      "needs_background": "light"
     },
     "output_type": "display_data"
    }
   ],
   "source": [
    "sns.heatmap(confusion_matrix(ytst,np.argmax(mod.predict(df_xtst), axis=-1)),annot=True,fmt=\"d\")"
   ]
  },
  {
   "cell_type": "code",
   "execution_count": null,
   "metadata": {},
   "outputs": [],
   "source": []
  },
  {
   "cell_type": "code",
   "execution_count": null,
   "metadata": {},
   "outputs": [],
   "source": []
  },
  {
   "cell_type": "code",
   "execution_count": null,
   "metadata": {},
   "outputs": [],
   "source": []
  },
  {
   "cell_type": "code",
   "execution_count": null,
   "metadata": {},
   "outputs": [],
   "source": []
  },
  {
   "cell_type": "code",
   "execution_count": null,
   "metadata": {},
   "outputs": [],
   "source": []
  },
  {
   "cell_type": "code",
   "execution_count": null,
   "metadata": {},
   "outputs": [],
   "source": []
  },
  {
   "cell_type": "markdown",
   "metadata": {},
   "source": [
    "# svm"
   ]
  },
  {
   "cell_type": "code",
   "execution_count": 29,
   "metadata": {},
   "outputs": [
    {
     "name": "stderr",
     "output_type": "stream",
     "text": [
      "C:\\Users\\max_c\\anaconda3\\lib\\site-packages\\sklearn\\utils\\validation.py:72: DataConversionWarning: A column-vector y was passed when a 1d array was expected. Please change the shape of y to (n_samples, ), for example using ravel().\n",
      "  return f(**kwargs)\n"
     ]
    },
    {
     "data": {
      "text/plain": [
       "SVC()"
      ]
     },
     "execution_count": 29,
     "metadata": {},
     "output_type": "execute_result"
    }
   ],
   "source": [
    "from sklearn import svm\n",
    "msv=svm.SVC()\n",
    "msv.fit(df_xtr,ytr)"
   ]
  },
  {
   "cell_type": "code",
   "execution_count": 37,
   "metadata": {
    "collapsed": true
   },
   "outputs": [
    {
     "name": "stdout",
     "output_type": "stream",
     "text": [
      "       784\n",
      "8282   6.0\n",
      "63     5.0\n",
      "5565   4.0\n",
      "5120   7.0\n",
      "7835   1.0\n",
      "...    ...\n",
      "7291   8.0\n",
      "11633  1.0\n",
      "1344   2.0\n",
      "7293   6.0\n",
      "1289   8.0\n",
      "\n",
      "[9600 rows x 1 columns]\n"
     ]
    }
   ],
   "source": [
    "print(ytr)\n",
    "ytr2=np.array(ytr).ravel()\n",
    "ytst2=np.array(ytst).ravel()"
   ]
  },
  {
   "cell_type": "code",
   "execution_count": 33,
   "metadata": {},
   "outputs": [
    {
     "data": {
      "text/plain": [
       "0.8375"
      ]
     },
     "execution_count": 33,
     "metadata": {},
     "output_type": "execute_result"
    }
   ],
   "source": [
    "msv.score(df_xtst,ytst)"
   ]
  },
  {
   "cell_type": "code",
   "execution_count": 56,
   "metadata": {},
   "outputs": [
    {
     "name": "stdout",
     "output_type": "stream",
     "text": [
      "0.8375\n",
      "Wall time: 3min 6s\n"
     ]
    },
    {
     "data": {
      "text/plain": [
       "<AxesSubplot:>"
      ]
     },
     "execution_count": 56,
     "metadata": {},
     "output_type": "execute_result"
    },
    {
     "data": {
      "image/png": "[encoded data removed]",
      "text/plain": [
       "<Figure size 432x288 with 2 Axes>"
      ]
     },
     "metadata": {
      "needs_background": "light"
     },
     "output_type": "display_data"
    }
   ],
   "source": [
    "%%time\n",
    "from sklearn.metrics import multilabel_confusion_matrix,confusion_matrix\n",
    "import seaborn as sns\n",
    "from sklearn import svm\n",
    "msv2=svm.SVC()\n",
    "msv2.fit(df_xtr,ytr2)\n",
    "msv2.predict(df_xtst)\n",
    "print(msv2.score(df_xtst,ytst2))\n",
    "sns.heatmap(confusion_matrix(ytst2,msv2.predict(df_xtst)),annot=True,fmt=\"d\")"
   ]
  },
  {
   "cell_type": "code",
   "execution_count": 58,
   "metadata": {},
   "outputs": [
    {
     "name": "stdout",
     "output_type": "stream",
     "text": [
      "0.745\n",
      "Wall time: 1min 29s\n"
     ]
    },
    {
     "data": {
      "text/plain": [
       "<AxesSubplot:>"
      ]
     },
     "execution_count": 58,
     "metadata": {},
     "output_type": "execute_result"
    },
    {
     "data": {
      "image/png": "[encoded data removed]",
      "text/plain": [
       "<Figure size 432x288 with 2 Axes>"
      ]
     },
     "metadata": {
      "needs_background": "light"
     },
     "output_type": "display_data"
    }
   ],
   "source": [
    "%%time\n",
    "from sklearn.metrics import multilabel_confusion_matrix,confusion_matrix\n",
    "import seaborn as sns\n",
    "from sklearn import svm\n",
    "msv3=svm.SVC(kernel='linear')\n",
    "msv3.fit(df_xtr,ytr2)\n",
    "msv3.predict(df_xtst)\n",
    "print(msv3.score(df_xtst,ytst2))\n",
    "sns.heatmap(confusion_matrix(ytst2,msv3.predict(df_xtst)),annot=True,fmt=\"d\")"
   ]
  },
  {
   "cell_type": "code",
   "execution_count": null,
   "metadata": {},
   "outputs": [],
   "source": []
  },
  {
   "cell_type": "code",
   "execution_count": null,
   "metadata": {},
   "outputs": [],
   "source": []
  },
  {
   "cell_type": "code",
   "execution_count": null,
   "metadata": {},
   "outputs": [],
   "source": []
  },
  {
   "cell_type": "markdown",
   "metadata": {},
   "source": [
    "# knn"
   ]
  },
  {
   "cell_type": "code",
   "execution_count": 55,
   "metadata": {},
   "outputs": [
    {
     "name": "stdout",
     "output_type": "stream",
     "text": [
      "0.7908333333333334\n",
      "Wall time: 2min 2s\n"
     ]
    },
    {
     "data": {
      "text/plain": [
       "<AxesSubplot:>"
      ]
     },
     "execution_count": 55,
     "metadata": {},
     "output_type": "execute_result"
    },
    {
     "data": {
      "image/png": "[encoded data removed]",
      "text/plain": [
       "<Figure size 432x288 with 2 Axes>"
      ]
     },
     "metadata": {
      "needs_background": "light"
     },
     "output_type": "display_data"
    }
   ],
   "source": [
    "%%time\n",
    "from sklearn.metrics import multilabel_confusion_matrix,confusion_matrix\n",
    "import seaborn as sns\n",
    "from sklearn.neighbors import KNeighborsClassifier\n",
    "knn = KNeighborsClassifier()\n",
    "knn.fit(df_xtr,ytr2)\n",
    "knn.predict(df_xtst)\n",
    "print(knn.score(df_xtst,ytst2))\n",
    "sns.heatmap(confusion_matrix(ytst2,knn.predict(df_xtst)),annot=True,fmt=\"d\")"
   ]
  },
  {
   "cell_type": "code",
   "execution_count": null,
   "metadata": {},
   "outputs": [],
   "source": []
  },
  {
   "cell_type": "code",
   "execution_count": null,
   "metadata": {},
   "outputs": [],
   "source": []
  },
  {
   "cell_type": "code",
   "execution_count": null,
   "metadata": {},
   "outputs": [],
   "source": []
  },
  {
   "cell_type": "code",
   "execution_count": 112,
   "metadata": {},
   "outputs": [
    {
     "name": "stdout",
     "output_type": "stream",
     "text": [
      "0.9520833492279053\n"
     ]
    }
   ],
   "source": [
    "#base on accuracy the best model selected for this classification task is \n",
    "print(cnn_accuracy)"
   ]
  },
  {
   "cell_type": "code",
   "execution_count": null,
   "metadata": {},
   "outputs": [],
   "source": []
  },
  {
   "cell_type": "code",
   "execution_count": null,
   "metadata": {},
   "outputs": [],
   "source": []
  },
  {
   "cell_type": "code",
   "execution_count": 145,
   "metadata": {},
   "outputs": [
    {
     "data": {
      "text/plain": [
       "array([6, 6, 8, ..., 6, 0, 3], dtype=int64)"
      ]
     },
     "execution_count": 145,
     "metadata": {},
     "output_type": "execute_result"
    }
   ],
   "source": [
    "#prediction\n",
    "pred =np.argmax(mod.predict(test_data), axis=-1)\n",
    "pred"
   ]
  },
  {
   "cell_type": "code",
   "execution_count": 146,
   "metadata": {},
   "outputs": [],
   "source": [
    "#create id column\n",
    "id=np.array(range(len(pred)))\n",
    "#create pandas DataFrame\n",
    "df=pd.DataFrame({'id':id, 'category':list(pred)},columns=['id','category'])"
   ]
  },
  {
   "cell_type": "code",
   "execution_count": 147,
   "metadata": {},
   "outputs": [
    {
     "data": {
      "text/html": [
       "<div>\n",
       "<style scoped>\n",
       "    .dataframe tbody tr th:only-of-type {\n",
       "        vertical-align: middle;\n",
       "    }\n",
       "\n",
       "    .dataframe tbody tr th {\n",
       "        vertical-align: top;\n",
       "    }\n",
       "\n",
       "    .dataframe thead th {\n",
       "        text-align: right;\n",
       "    }\n",
       "</style>\n",
       "<table border=\"1\" class=\"dataframe\">\n",
       "  <thead>\n",
       "    <tr style=\"text-align: right;\">\n",
       "      <th></th>\n",
       "      <th>id</th>\n",
       "      <th>category</th>\n",
       "    </tr>\n",
       "  </thead>\n",
       "  <tbody>\n",
       "    <tr>\n",
       "      <th>0</th>\n",
       "      <td>0</td>\n",
       "      <td>6</td>\n",
       "    </tr>\n",
       "    <tr>\n",
       "      <th>1</th>\n",
       "      <td>1</td>\n",
       "      <td>6</td>\n",
       "    </tr>\n",
       "    <tr>\n",
       "      <th>2</th>\n",
       "      <td>2</td>\n",
       "      <td>8</td>\n",
       "    </tr>\n",
       "    <tr>\n",
       "      <th>3</th>\n",
       "      <td>3</td>\n",
       "      <td>4</td>\n",
       "    </tr>\n",
       "    <tr>\n",
       "      <th>4</th>\n",
       "      <td>4</td>\n",
       "      <td>8</td>\n",
       "    </tr>\n",
       "    <tr>\n",
       "      <th>...</th>\n",
       "      <td>...</td>\n",
       "      <td>...</td>\n",
       "    </tr>\n",
       "    <tr>\n",
       "      <th>49995</th>\n",
       "      <td>49995</td>\n",
       "      <td>1</td>\n",
       "    </tr>\n",
       "    <tr>\n",
       "      <th>49996</th>\n",
       "      <td>49996</td>\n",
       "      <td>3</td>\n",
       "    </tr>\n",
       "    <tr>\n",
       "      <th>49997</th>\n",
       "      <td>49997</td>\n",
       "      <td>6</td>\n",
       "    </tr>\n",
       "    <tr>\n",
       "      <th>49998</th>\n",
       "      <td>49998</td>\n",
       "      <td>0</td>\n",
       "    </tr>\n",
       "    <tr>\n",
       "      <th>49999</th>\n",
       "      <td>49999</td>\n",
       "      <td>3</td>\n",
       "    </tr>\n",
       "  </tbody>\n",
       "</table>\n",
       "<p>50000 rows × 2 columns</p>\n",
       "</div>"
      ],
      "text/plain": [
       "          id  category\n",
       "0          0         6\n",
       "1          1         6\n",
       "2          2         8\n",
       "3          3         4\n",
       "4          4         8\n",
       "...      ...       ...\n",
       "49995  49995         1\n",
       "49996  49996         3\n",
       "49997  49997         6\n",
       "49998  49998         0\n",
       "49999  49999         3\n",
       "\n",
       "[50000 rows x 2 columns]"
      ]
     },
     "execution_count": 147,
     "metadata": {},
     "output_type": "execute_result"
    }
   ],
   "source": [
    "df"
   ]
  },
  {
   "cell_type": "code",
   "execution_count": 148,
   "metadata": {},
   "outputs": [],
   "source": [
    "df.to_csv(\"ann_max_cyril_DS20.csv\",encoding='UTF-8',index=False)"
   ]
  }
 ],
 "metadata": {
  "kernelspec": {
   "display_name": "Python 3",
   "language": "python",
   "name": "python3"
  },
  "language_info": {
   "codemirror_mode": {
    "name": "ipython",
    "version": 3
   },
   "file_extension": ".py",
   "mimetype": "text/x-python",
   "name": "python",
   "nbconvert_exporter": "python",
   "pygments_lexer": "ipython3",
   "version": "3.8.3"
  }
 },
 "nbformat": 4,
 "nbformat_minor": 4
}
